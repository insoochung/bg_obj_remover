{
 "cells": [
  {
   "cell_type": "code",
   "execution_count": 1,
   "id": "b9efabaf",
   "metadata": {},
   "outputs": [],
   "source": [
    "import os, sys\n",
    "sys.path.insert(0, f\"{os.getcwd()}/../pconv_unet\")"
   ]
  },
  {
   "cell_type": "code",
   "execution_count": 2,
   "id": "47a22369",
   "metadata": {},
   "outputs": [],
   "source": [
    "from model import PConvUnet\n",
    "\n",
    "ASSETS_DIR = f\"{os.getcwd()}/../pconv_unet/assets\"\n",
    "TRAINED_MODELS_DIR = os.path.join(ASSETS_DIR, \"trained_models\")\n",
    "IMAGE_SIZE = 256"
   ]
  },
  {
   "cell_type": "code",
   "execution_count": 3,
   "id": "add6335a",
   "metadata": {},
   "outputs": [],
   "source": [
    "import tensorflow as tf\n",
    "\n",
    "checkpoint = tf.train.latest_checkpoint(\n",
    "    TRAINED_MODELS_DIR, os.path.join(TRAINED_MODELS_DIR, \"checkpoint\"))\n",
    "inpainting_model = PConvUnet(vgg_path=\"\", image_size=IMAGE_SIZE)"
   ]
  },
  {
   "cell_type": "code",
   "execution_count": null,
   "id": "e8aa9377",
   "metadata": {},
   "outputs": [],
   "source": [
    "import PIL\n",
    "import numpy as np\n",
    "\n",
    "IMAGE_PATH = \"input.png\"\n",
    "MASK_PATH = \"mask.png\"\n",
    "\n",
    "image = np.asarray(PIL.Image(IMAGE_PATH)).astype(np.float32) / 255.\n",
    "mask = np.asarray(PIL.Image(MASK_PATH)).astype(np.float32) / 255.\n",
    "\n",
    "image_shape = image.shape\n",
    "\n",
    "_image = image.reshape((IMAGE_SIZE, IMAGE_SIZE))\n",
    "_mask = mask.reshape((IMAGE_SIZE, IMAGE_SIZE))\n",
    "\n",
    "painted = inpainting_model.pconv_unet([_image, _mask])\n",
    "painted.reshape(image_shape)"
   ]
  },
  {
   "cell_type": "code",
   "execution_count": null,
   "id": "b0264105",
   "metadata": {},
   "outputs": [],
   "source": [
    "from matplotlib import pyplot as plt\n",
    "\n",
    "fig, ax = plt.subplots(1, 3, sharex=True)\n",
    "\n",
    "ax[0].imshow(image)\n",
    "ax[0].set_title('Input')\n",
    "\n",
    "ax[1].imshow(mask)\n",
    "ax[1].set_title('Mask')\n",
    "\n",
    "ax[2].imshow(painted)\n",
    "ax[2].set_title('Painted')"
   ]
  }
 ],
 "metadata": {
  "kernelspec": {
   "display_name": "Python 3 (ipykernel)",
   "language": "python",
   "name": "python3"
  },
  "language_info": {
   "codemirror_mode": {
    "name": "ipython",
    "version": 3
   },
   "file_extension": ".py",
   "mimetype": "text/x-python",
   "name": "python",
   "nbconvert_exporter": "python",
   "pygments_lexer": "ipython3",
   "version": "3.9.16"
  }
 },
 "nbformat": 4,
 "nbformat_minor": 5
}
