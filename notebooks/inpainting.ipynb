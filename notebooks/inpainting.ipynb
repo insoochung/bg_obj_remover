{
 "cells": [
  {
   "cell_type": "code",
   "execution_count": 1,
   "id": "b9efabaf",
   "metadata": {},
   "outputs": [],
   "source": [
    "import os, sys\n",
    "sys.path.insert(0, f\"{os.getcwd()}/../pconv_unet\")"
   ]
  },
  {
   "cell_type": "code",
   "execution_count": 2,
   "id": "47a22369",
   "metadata": {},
   "outputs": [],
   "source": [
    "from model import PConvUnet\n",
    "\n",
    "ASSETS_DIR = f\"{os.getcwd()}/../pconv_unet/assets\"\n",
    "TRAINED_MODELS_DIR = os.path.join(ASSETS_DIR, \"trained_models\")\n",
    "IMAGE_SIZE = 256"
   ]
  },
  {
   "cell_type": "code",
   "execution_count": 4,
   "id": "add6335a",
   "metadata": {},
   "outputs": [],
   "source": [
    "import tensorflow as tf\n",
    "\n",
    "checkpoint = tf.train.latest_checkpoint(\n",
    "    TRAINED_MODELS_DIR, os.path.join(TRAINED_MODELS_DIR, \"checkpoint\"))\n",
    "inpainting_model = PConvUnet(vgg_path=\"\", image_size=IMAGE_SIZE)\n",
    "inpainting_model.load_model(checkpoint)"
   ]
  },
  {
   "cell_type": "code",
   "execution_count": 6,
   "id": "e8aa9377",
   "metadata": {},
   "outputs": [],
   "source": [
    "# import PIL\n",
    "import numpy as np\n",
    "import cv2\n",
    "from matplotlib import pyplot as plt\n",
    "\n",
    "def run(image_path, mask_path, invert_mask=False):\n",
    "    image = cv2.imread(image_path)\n",
    "    image = cv2.cvtColor(image, cv2.COLOR_BGR2RGB)\n",
    "    if invert_mask:\n",
    "        mask = 255. * np.ones(image.shape) - cv2.imread(mask_path) # inverted\n",
    "    else:\n",
    "        mask = cv2.imread(mask_path)\n",
    "\n",
    "    image_shape = image.shape\n",
    "\n",
    "    _image = cv2.resize(\n",
    "        image, dsize=(IMAGE_SIZE, IMAGE_SIZE), interpolation=cv2.INTER_CUBIC)\n",
    "    _image = np.expand_dims(_image, axis=0) / 255.\n",
    "    _mask = cv2.resize(\n",
    "        mask, dsize=(IMAGE_SIZE, IMAGE_SIZE), interpolation=cv2.INTER_CUBIC) / 255.\n",
    "    _mask = np.expand_dims(_mask, axis=0)\n",
    "\n",
    "    painted = inpainting_model.pconv_unet([_image, _mask])\n",
    "    painted = np.squeeze(painted)\n",
    "    painted = cv2.resize(painted,\n",
    "                         dsize=(image_shape[1], image_shape[0]),\n",
    "                         interpolation=cv2.INTER_CUBIC)\n",
    "\n",
    "\n",
    "    plt.imshow(image)\n",
    "    plt.show()\n",
    "\n",
    "    plt.imshow(mask)\n",
    "    plt.show()\n",
    "\n",
    "    plt.imshow(painted)\n",
    "    plt.show()\n"
   ]
  },
  {
   "cell_type": "code",
   "execution_count": null,
   "id": "fd507888",
   "metadata": {},
   "outputs": [],
   "source": [
    "run(\"images/image1.png\", \"images/mask1.png\", invert_mask=False)"
   ]
  },
  {
   "cell_type": "code",
   "execution_count": null,
   "id": "f6e0d8c4",
   "metadata": {},
   "outputs": [],
   "source": [
    "run(\"images/image1.png\", \"images/mask2.png\", invert_mask=False)"
   ]
  },
  {
   "cell_type": "code",
   "execution_count": null,
   "id": "853239b9",
   "metadata": {},
   "outputs": [],
   "source": [
    "\n"
   ]
  }
 ],
 "metadata": {
  "kernelspec": {
   "display_name": "Python 3 (ipykernel)",
   "language": "python",
   "name": "python3"
  },
  "language_info": {
   "codemirror_mode": {
    "name": "ipython",
    "version": 3
   },
   "file_extension": ".py",
   "mimetype": "text/x-python",
   "name": "python",
   "nbconvert_exporter": "python",
   "pygments_lexer": "ipython3",
   "version": "3.9.16"
  }
 },
 "nbformat": 4,
 "nbformat_minor": 5
}
